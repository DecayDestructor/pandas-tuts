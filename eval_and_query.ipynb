{
 "cells": [
  {
   "cell_type": "code",
   "execution_count": 34,
   "id": "e98f4b47-fe2e-4f56-98b1-c4fbab94732f",
   "metadata": {},
   "outputs": [
    {
     "data": {
      "text/plain": [
       "array([False,  True,  True, ..., False, False, False])"
      ]
     },
     "execution_count": 34,
     "metadata": {},
     "output_type": "execute_result"
    }
   ],
   "source": [
    "import numexpr\n",
    "import numpy as np\n",
    "rng = np.random.RandomState(42)\n",
    "x = rng.rand(1000000)\n",
    "y = rng.rand(1000000)\n",
    "mask = (x > 0.5) & (y < 0.5)\n",
    "mask_numexpr = numexpr.evaluate('(x > 0.5) & (y < 0.5)')\n",
    "np.allclose(mask, mask_numexpr)\n",
    "# mask_numexpr"
   ]
  },
  {
   "cell_type": "code",
   "execution_count": 20,
   "id": "881dd7d4-856c-4b0a-9109-a76cd6f212ff",
   "metadata": {},
   "outputs": [],
   "source": [
    "import pandas as pd\n",
    "nrows, ncols = 100000, 100\n",
    "rng = np.random.RandomState(42)\n",
    "df1, df2, df3, df4 = (pd.DataFrame(rng.rand(nrows,ncols))\n",
    "                      for i in range(4))\n",
    "\n"
   ]
  },
  {
   "cell_type": "code",
   "execution_count": 27,
   "id": "417b8218-8ea1-4e0a-9657-d61dd38ed5e9",
   "metadata": {},
   "outputs": [
    {
     "name": "stdout",
     "output_type": "stream",
     "text": [
      "77.4 ms ± 5.81 ms per loop (mean ± std. dev. of 7 runs, 10 loops each)\n"
     ]
    }
   ],
   "source": [
    "%timeit pd.eval('df1 + df2 + df3 + df4') "
   ]
  },
  {
   "cell_type": "code",
   "execution_count": 29,
   "id": "2165fe9c-d8d7-440e-b6ac-5d839af485b6",
   "metadata": {},
   "outputs": [
    {
     "name": "stdout",
     "output_type": "stream",
     "text": [
      "151 ms ± 9.68 ms per loop (mean ± std. dev. of 7 runs, 10 loops each)\n"
     ]
    }
   ],
   "source": [
    "%timeit df1+df2+df3+df4"
   ]
  },
  {
   "cell_type": "markdown",
   "id": "a507d86d-77cb-4556-9fb6-d9d491715790",
   "metadata": {},
   "source": [
    "pd.eval() supports boolean,arithematic, bitwise, the 'and' and 'or' thing,"
   ]
  },
  {
   "cell_type": "markdown",
   "id": "0666320b-bd78-4936-bbd9-a6877cfbe38f",
   "metadata": {},
   "source": [
    "### For column wise"
   ]
  },
  {
   "cell_type": "code",
   "execution_count": 37,
   "id": "324553bb-b93a-4747-a617-5fa803079719",
   "metadata": {},
   "outputs": [
    {
     "data": {
      "text/html": [
       "<div>\n",
       "<style scoped>\n",
       "    .dataframe tbody tr th:only-of-type {\n",
       "        vertical-align: middle;\n",
       "    }\n",
       "\n",
       "    .dataframe tbody tr th {\n",
       "        vertical-align: top;\n",
       "    }\n",
       "\n",
       "    .dataframe thead th {\n",
       "        text-align: right;\n",
       "    }\n",
       "</style>\n",
       "<table border=\"1\" class=\"dataframe\">\n",
       "  <thead>\n",
       "    <tr style=\"text-align: right;\">\n",
       "      <th></th>\n",
       "      <th>A</th>\n",
       "      <th>B</th>\n",
       "      <th>C</th>\n",
       "    </tr>\n",
       "  </thead>\n",
       "  <tbody>\n",
       "    <tr>\n",
       "      <th>0</th>\n",
       "      <td>0.101812</td>\n",
       "      <td>0.298283</td>\n",
       "      <td>0.636572</td>\n",
       "    </tr>\n",
       "    <tr>\n",
       "      <th>1</th>\n",
       "      <td>0.435671</td>\n",
       "      <td>0.220578</td>\n",
       "      <td>0.990797</td>\n",
       "    </tr>\n",
       "    <tr>\n",
       "      <th>2</th>\n",
       "      <td>0.654224</td>\n",
       "      <td>0.820193</td>\n",
       "      <td>0.904737</td>\n",
       "    </tr>\n",
       "    <tr>\n",
       "      <th>3</th>\n",
       "      <td>0.137785</td>\n",
       "      <td>0.155398</td>\n",
       "      <td>0.307140</td>\n",
       "    </tr>\n",
       "    <tr>\n",
       "      <th>4</th>\n",
       "      <td>0.921909</td>\n",
       "      <td>0.707242</td>\n",
       "      <td>0.528478</td>\n",
       "    </tr>\n",
       "  </tbody>\n",
       "</table>\n",
       "</div>"
      ],
      "text/plain": [
       "          A         B         C\n",
       "0  0.101812  0.298283  0.636572\n",
       "1  0.435671  0.220578  0.990797\n",
       "2  0.654224  0.820193  0.904737\n",
       "3  0.137785  0.155398  0.307140\n",
       "4  0.921909  0.707242  0.528478"
      ]
     },
     "execution_count": 37,
     "metadata": {},
     "output_type": "execute_result"
    }
   ],
   "source": [
    "df = pd.DataFrame(rng.rand(1000, 3), columns=['A', 'B', 'C'])\n",
    "df.head()"
   ]
  },
  {
   "cell_type": "code",
   "execution_count": 39,
   "id": "5d15b183-c95e-4191-bf90-2e3cba019195",
   "metadata": {},
   "outputs": [],
   "source": [
    "#dataframe eval is easier"
   ]
  },
  {
   "cell_type": "code",
   "execution_count": 43,
   "id": "859a0633-c0ab-4899-9126-be67dfab86ad",
   "metadata": {},
   "outputs": [
    {
     "data": {
      "text/plain": [
       "True"
      ]
     },
     "execution_count": 43,
     "metadata": {},
     "output_type": "execute_result"
    }
   ],
   "source": [
    "result1 = (df['A'] + df['B']) / (df['C'] - 1)\n",
    "result2 = pd.eval(\"(df.A + df.B) / (df.C - 1)\")\n",
    "np.allclose(result1, result2)"
   ]
  },
  {
   "cell_type": "code",
   "execution_count": 45,
   "id": "44475388-e993-4193-94d5-4191e76c4822",
   "metadata": {},
   "outputs": [
    {
     "data": {
      "text/plain": [
       "True"
      ]
     },
     "execution_count": 45,
     "metadata": {},
     "output_type": "execute_result"
    }
   ],
   "source": [
    "result3 = df.eval('(A + B) / (C - 1)')\n",
    "np.allclose(result1, result3)"
   ]
  },
  {
   "cell_type": "code",
   "execution_count": 49,
   "id": "b68de0e4-7baf-4530-a5c1-4aa9f70904c7",
   "metadata": {},
   "outputs": [
    {
     "data": {
      "text/html": [
       "<div>\n",
       "<style scoped>\n",
       "    .dataframe tbody tr th:only-of-type {\n",
       "        vertical-align: middle;\n",
       "    }\n",
       "\n",
       "    .dataframe tbody tr th {\n",
       "        vertical-align: top;\n",
       "    }\n",
       "\n",
       "    .dataframe thead th {\n",
       "        text-align: right;\n",
       "    }\n",
       "</style>\n",
       "<table border=\"1\" class=\"dataframe\">\n",
       "  <thead>\n",
       "    <tr style=\"text-align: right;\">\n",
       "      <th></th>\n",
       "      <th>A</th>\n",
       "      <th>B</th>\n",
       "      <th>C</th>\n",
       "      <th>D</th>\n",
       "    </tr>\n",
       "  </thead>\n",
       "  <tbody>\n",
       "    <tr>\n",
       "      <th>0</th>\n",
       "      <td>0.101812</td>\n",
       "      <td>0.298283</td>\n",
       "      <td>0.636572</td>\n",
       "      <td>0.628515</td>\n",
       "    </tr>\n",
       "    <tr>\n",
       "      <th>1</th>\n",
       "      <td>0.435671</td>\n",
       "      <td>0.220578</td>\n",
       "      <td>0.990797</td>\n",
       "      <td>0.662344</td>\n",
       "    </tr>\n",
       "    <tr>\n",
       "      <th>2</th>\n",
       "      <td>0.654224</td>\n",
       "      <td>0.820193</td>\n",
       "      <td>0.904737</td>\n",
       "      <td>1.629663</td>\n",
       "    </tr>\n",
       "    <tr>\n",
       "      <th>3</th>\n",
       "      <td>0.137785</td>\n",
       "      <td>0.155398</td>\n",
       "      <td>0.307140</td>\n",
       "      <td>0.954558</td>\n",
       "    </tr>\n",
       "    <tr>\n",
       "      <th>4</th>\n",
       "      <td>0.921909</td>\n",
       "      <td>0.707242</td>\n",
       "      <td>0.528478</td>\n",
       "      <td>3.082725</td>\n",
       "    </tr>\n",
       "  </tbody>\n",
       "</table>\n",
       "</div>"
      ],
      "text/plain": [
       "          A         B         C         D\n",
       "0  0.101812  0.298283  0.636572  0.628515\n",
       "1  0.435671  0.220578  0.990797  0.662344\n",
       "2  0.654224  0.820193  0.904737  1.629663\n",
       "3  0.137785  0.155398  0.307140  0.954558\n",
       "4  0.921909  0.707242  0.528478  3.082725"
      ]
     },
     "execution_count": 49,
     "metadata": {},
     "output_type": "execute_result"
    }
   ],
   "source": [
    "df.eval('D = (A + B) / C', inplace=True) #assigns\n",
    "df.head()"
   ]
  },
  {
   "cell_type": "code",
   "execution_count": 51,
   "id": "c321b943-2451-4fbd-9b05-f1f33133792a",
   "metadata": {},
   "outputs": [
    {
     "data": {
      "text/plain": [
       "True"
      ]
     },
     "execution_count": 51,
     "metadata": {},
     "output_type": "execute_result"
    }
   ],
   "source": [
    "column_mean = df.mean(1)\n",
    "result1 = df['A'] + column_mean\n",
    "result2 = df.eval('A + @column_mean')\n",
    "np.allclose(result1, result2)"
   ]
  },
  {
   "cell_type": "markdown",
   "id": "64516a7b-4f58-4cda-b784-573b797446f0",
   "metadata": {},
   "source": [
    "The @ character here marks a variable name rather than a column name, and lets you efficiently evaluate expressions involving the two \"namespaces\": the namespace of columns, and the namespace of Python objects. Notice that this @ character is only supported by the DataFrame.eval() method, not by the pandas.eval() function, because the pandas.eval() function only has access to the one (Python) namespace."
   ]
  },
  {
   "cell_type": "code",
   "execution_count": 54,
   "id": "f5053a92-d18a-4db8-9b52-6c4d54f9b744",
   "metadata": {},
   "outputs": [
    {
     "data": {
      "text/plain": [
       "True"
      ]
     },
     "execution_count": 54,
     "metadata": {},
     "output_type": "execute_result"
    }
   ],
   "source": [
    "result1 = df[(df.A < 0.5) & (df.B < 0.5)]\n",
    "result2 = pd.eval('df[(df.A < 0.5) & (df.B < 0.5)]')\n",
    "np.allclose(result1, result2)"
   ]
  },
  {
   "cell_type": "code",
   "execution_count": 71,
   "id": "20c21558-e7d9-4777-b2f3-5f306b0767d0",
   "metadata": {},
   "outputs": [
    {
     "data": {
      "text/html": [
       "<div>\n",
       "<style scoped>\n",
       "    .dataframe tbody tr th:only-of-type {\n",
       "        vertical-align: middle;\n",
       "    }\n",
       "\n",
       "    .dataframe tbody tr th {\n",
       "        vertical-align: top;\n",
       "    }\n",
       "\n",
       "    .dataframe thead th {\n",
       "        text-align: right;\n",
       "    }\n",
       "</style>\n",
       "<table border=\"1\" class=\"dataframe\">\n",
       "  <thead>\n",
       "    <tr style=\"text-align: right;\">\n",
       "      <th></th>\n",
       "      <th>A</th>\n",
       "      <th>B</th>\n",
       "      <th>C</th>\n",
       "      <th>D</th>\n",
       "    </tr>\n",
       "  </thead>\n",
       "  <tbody>\n",
       "    <tr>\n",
       "      <th>0</th>\n",
       "      <td>0.101812</td>\n",
       "      <td>0.298283</td>\n",
       "      <td>0.636572</td>\n",
       "      <td>0.628515</td>\n",
       "    </tr>\n",
       "    <tr>\n",
       "      <th>1</th>\n",
       "      <td>0.435671</td>\n",
       "      <td>0.220578</td>\n",
       "      <td>0.990797</td>\n",
       "      <td>0.662344</td>\n",
       "    </tr>\n",
       "    <tr>\n",
       "      <th>3</th>\n",
       "      <td>0.137785</td>\n",
       "      <td>0.155398</td>\n",
       "      <td>0.307140</td>\n",
       "      <td>0.954558</td>\n",
       "    </tr>\n",
       "    <tr>\n",
       "      <th>8</th>\n",
       "      <td>0.470473</td>\n",
       "      <td>0.422362</td>\n",
       "      <td>0.058994</td>\n",
       "      <td>15.134265</td>\n",
       "    </tr>\n",
       "    <tr>\n",
       "      <th>12</th>\n",
       "      <td>0.475457</td>\n",
       "      <td>0.049676</td>\n",
       "      <td>0.448709</td>\n",
       "      <td>1.170318</td>\n",
       "    </tr>\n",
       "    <tr>\n",
       "      <th>...</th>\n",
       "      <td>...</td>\n",
       "      <td>...</td>\n",
       "      <td>...</td>\n",
       "      <td>...</td>\n",
       "    </tr>\n",
       "    <tr>\n",
       "      <th>983</th>\n",
       "      <td>0.412349</td>\n",
       "      <td>0.163616</td>\n",
       "      <td>0.201851</td>\n",
       "      <td>2.853413</td>\n",
       "    </tr>\n",
       "    <tr>\n",
       "      <th>989</th>\n",
       "      <td>0.327237</td>\n",
       "      <td>0.108239</td>\n",
       "      <td>0.823618</td>\n",
       "      <td>0.528735</td>\n",
       "    </tr>\n",
       "    <tr>\n",
       "      <th>990</th>\n",
       "      <td>0.246177</td>\n",
       "      <td>0.098306</td>\n",
       "      <td>0.896117</td>\n",
       "      <td>0.384417</td>\n",
       "    </tr>\n",
       "    <tr>\n",
       "      <th>992</th>\n",
       "      <td>0.469971</td>\n",
       "      <td>0.448903</td>\n",
       "      <td>0.342198</td>\n",
       "      <td>2.685216</td>\n",
       "    </tr>\n",
       "    <tr>\n",
       "      <th>998</th>\n",
       "      <td>0.237198</td>\n",
       "      <td>0.128120</td>\n",
       "      <td>0.842254</td>\n",
       "      <td>0.433738</td>\n",
       "    </tr>\n",
       "  </tbody>\n",
       "</table>\n",
       "<p>249 rows × 4 columns</p>\n",
       "</div>"
      ],
      "text/plain": [
       "            A         B         C          D\n",
       "0    0.101812  0.298283  0.636572   0.628515\n",
       "1    0.435671  0.220578  0.990797   0.662344\n",
       "3    0.137785  0.155398  0.307140   0.954558\n",
       "8    0.470473  0.422362  0.058994  15.134265\n",
       "12   0.475457  0.049676  0.448709   1.170318\n",
       "..        ...       ...       ...        ...\n",
       "983  0.412349  0.163616  0.201851   2.853413\n",
       "989  0.327237  0.108239  0.823618   0.528735\n",
       "990  0.246177  0.098306  0.896117   0.384417\n",
       "992  0.469971  0.448903  0.342198   2.685216\n",
       "998  0.237198  0.128120  0.842254   0.433738\n",
       "\n",
       "[249 rows x 4 columns]"
      ]
     },
     "execution_count": 71,
     "metadata": {},
     "output_type": "execute_result"
    }
   ],
   "source": [
    "df[df.eval('A<0.5 and B<0.5')]"
   ]
  },
  {
   "cell_type": "code",
   "execution_count": 73,
   "id": "2bb19429-8f5c-4547-9af6-79b3a56b9750",
   "metadata": {},
   "outputs": [
    {
     "data": {
      "text/plain": [
       "pandas.core.frame.DataFrame"
      ]
     },
     "execution_count": 73,
     "metadata": {},
     "output_type": "execute_result"
    }
   ],
   "source": [
    "type(result1)"
   ]
  },
  {
   "cell_type": "code",
   "execution_count": 75,
   "id": "bf30c8f0-b7d6-4e25-aa9b-d261758e4070",
   "metadata": {},
   "outputs": [
    {
     "data": {
      "text/plain": [
       "True"
      ]
     },
     "execution_count": 75,
     "metadata": {},
     "output_type": "execute_result"
    }
   ],
   "source": [
    "result2 = df.query('A < 0.5 and B < 0.5')\n",
    "np.allclose(result1, result2)"
   ]
  },
  {
   "cell_type": "code",
   "execution_count": null,
   "id": "2bc9629a-9258-440e-906c-723a6c7924d5",
   "metadata": {},
   "outputs": [],
   "source": []
  }
 ],
 "metadata": {
  "kernelspec": {
   "display_name": "Python 3 (ipykernel)",
   "language": "python",
   "name": "python3"
  },
  "language_info": {
   "codemirror_mode": {
    "name": "ipython",
    "version": 3
   },
   "file_extension": ".py",
   "mimetype": "text/x-python",
   "name": "python",
   "nbconvert_exporter": "python",
   "pygments_lexer": "ipython3",
   "version": "3.12.4"
  }
 },
 "nbformat": 4,
 "nbformat_minor": 5
}
