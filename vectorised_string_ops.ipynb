{
 "cells": [
  {
   "cell_type": "code",
   "execution_count": 39,
   "id": "bc271ffc-2c1c-491c-89ad-9fcf16f253fb",
   "metadata": {},
   "outputs": [],
   "source": [
    "import numpy as np\n",
    "data=['peter', 'Paul', 'MARY', 'gUIDO']"
   ]
  },
  {
   "cell_type": "code",
   "execution_count": 41,
   "id": "639530aa-47d8-46ec-a39b-05a712cb51aa",
   "metadata": {},
   "outputs": [],
   "source": [
    "a=np.array(data)"
   ]
  },
  {
   "cell_type": "code",
   "execution_count": 35,
   "id": "a41edbbb-7fe1-44a1-8adb-bfd68d2d85ed",
   "metadata": {},
   "outputs": [
    {
     "data": {
      "text/plain": [
       "array(['PETER', 'PAUL', 'MARY', 'GUIDO'], dtype='<U5')"
      ]
     },
     "execution_count": 35,
     "metadata": {},
     "output_type": "execute_result"
    }
   ],
   "source": [
    "np.char.upper(a)"
   ]
  },
  {
   "cell_type": "code",
   "execution_count": 15,
   "id": "046b3fae-7403-4c2b-86e2-f78d6a235aa5",
   "metadata": {},
   "outputs": [],
   "source": [
    "s=\"hello\""
   ]
  },
  {
   "cell_type": "code",
   "execution_count": 45,
   "id": "92a404b8-ac66-44e4-b0a5-75d9cb05757d",
   "metadata": {},
   "outputs": [
    {
     "data": {
      "text/plain": [
       "0    peter\n",
       "1     Paul\n",
       "2     MARY\n",
       "3    gUIDO\n",
       "dtype: object"
      ]
     },
     "execution_count": 45,
     "metadata": {},
     "output_type": "execute_result"
    }
   ],
   "source": [
    "import pandas as pd\n",
    "names = pd.Series(data)\n",
    "names"
   ]
  },
  {
   "cell_type": "code",
   "execution_count": 47,
   "id": "a42e7180-e2f6-4d4f-b131-aa8d58037769",
   "metadata": {},
   "outputs": [
    {
     "data": {
      "text/plain": [
       "0    Peter\n",
       "1     Paul\n",
       "2     Mary\n",
       "3    Guido\n",
       "dtype: object"
      ]
     },
     "execution_count": 47,
     "metadata": {},
     "output_type": "execute_result"
    }
   ],
   "source": [
    "names.str.capitalize()"
   ]
  },
  {
   "cell_type": "code",
   "execution_count": 51,
   "id": "9a0963a4-cc88-4f5f-9696-94319212ef45",
   "metadata": {},
   "outputs": [
    {
     "data": {
      "text/plain": [
       "TimedeltaIndex(['0 days 00:00:00', '0 days 01:00:00', '0 days 02:00:00',\n",
       "                '0 days 03:00:00', '0 days 04:00:00', '0 days 05:00:00',\n",
       "                '0 days 06:00:00', '0 days 07:00:00', '0 days 08:00:00',\n",
       "                '0 days 09:00:00'],\n",
       "               dtype='timedelta64[ns]', freq='h')"
      ]
     },
     "execution_count": 51,
     "metadata": {},
     "output_type": "execute_result"
    }
   ],
   "source": [
    "pd.timedelta_range(0, periods=10, freq='h')"
   ]
  },
  {
   "cell_type": "code",
   "execution_count": null,
   "id": "84cc8fa3-b1ba-42db-9bc1-9cd62393abb3",
   "metadata": {},
   "outputs": [],
   "source": []
  }
 ],
 "metadata": {
  "kernelspec": {
   "display_name": "Python 3 (ipykernel)",
   "language": "python",
   "name": "python3"
  },
  "language_info": {
   "codemirror_mode": {
    "name": "ipython",
    "version": 3
   },
   "file_extension": ".py",
   "mimetype": "text/x-python",
   "name": "python",
   "nbconvert_exporter": "python",
   "pygments_lexer": "ipython3",
   "version": "3.12.4"
  }
 },
 "nbformat": 4,
 "nbformat_minor": 5
}
