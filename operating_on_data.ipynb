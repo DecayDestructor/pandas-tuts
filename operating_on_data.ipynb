{
 "cells": [
  {
   "cell_type": "code",
   "execution_count": 1,
   "id": "a4739b0b-33c7-461b-9f60-8ae901d92652",
   "metadata": {},
   "outputs": [],
   "source": [
    "import pandas as pd\n",
    "import numpy as np"
   ]
  },
  {
   "cell_type": "markdown",
   "id": "1057c672-a515-46d2-83a7-312a3cbb74b9",
   "metadata": {},
   "source": [
    "### Pandas with numpy align the indexes, so agar kisi ek field ka value is NaN or someshit, it will leave that blank"
   ]
  },
  {
   "cell_type": "code",
   "execution_count": 4,
   "id": "a0d3168e-9e74-410a-bd22-482f10e2173e",
   "metadata": {},
   "outputs": [],
   "source": [
    "area = pd.Series({'Alaska': 1723337, 'Texas': 695662,\n",
    "                  'California': 423967}, name='area')\n",
    "population = pd.Series({'California': 38332521, 'Texas': 26448193,\n",
    "                        'New York': 19651127}, name='population')"
   ]
  },
  {
   "cell_type": "code",
   "execution_count": 6,
   "id": "a2785cb9-fd55-4b73-83d4-f9b1bb515b40",
   "metadata": {},
   "outputs": [
    {
     "data": {
      "text/plain": [
       "Alaska              NaN\n",
       "California    90.413926\n",
       "New York            NaN\n",
       "Texas         38.018740\n",
       "dtype: float64"
      ]
     },
     "execution_count": 6,
     "metadata": {},
     "output_type": "execute_result"
    }
   ],
   "source": [
    "population/area"
   ]
  },
  {
   "cell_type": "markdown",
   "id": "4021cd51-9977-46ad-93b5-5190ce8ab44c",
   "metadata": {},
   "source": [
    "if NAN is not required, we can usee inbuild functions"
   ]
  },
  {
   "cell_type": "code",
   "execution_count": 11,
   "id": "6e1fab7d-883d-4786-93fe-3195070b5795",
   "metadata": {},
   "outputs": [
    {
     "data": {
      "text/plain": [
       "Alaska         0.000000\n",
       "California    90.413926\n",
       "New York            inf\n",
       "Texas         38.018740\n",
       "dtype: float64"
      ]
     },
     "execution_count": 11,
     "metadata": {},
     "output_type": "execute_result"
    }
   ],
   "source": [
    "population.divide(area,fill_value=0)"
   ]
  },
  {
   "cell_type": "code",
   "execution_count": null,
   "id": "8299470d-9512-429c-bbcf-bf81f821b114",
   "metadata": {},
   "outputs": [],
   "source": []
  }
 ],
 "metadata": {
  "kernelspec": {
   "display_name": "Python 3 (ipykernel)",
   "language": "python",
   "name": "python3"
  },
  "language_info": {
   "codemirror_mode": {
    "name": "ipython",
    "version": 3
   },
   "file_extension": ".py",
   "mimetype": "text/x-python",
   "name": "python",
   "nbconvert_exporter": "python",
   "pygments_lexer": "ipython3",
   "version": "3.12.4"
  }
 },
 "nbformat": 4,
 "nbformat_minor": 5
}
